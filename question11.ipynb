{
 "cells": [
  {
   "cell_type": "markdown",
   "id": "7b1b9d48-6834-4d3f-bca5-633c033888a0",
   "metadata": {},
   "source": [
    "# Nasra Khawaja\n",
    "Notebook for Assignment 7."
   ]
  },
  {
   "cell_type": "code",
   "execution_count": 1,
   "id": "e7ecb37a-6c59-424f-86c1-d43dc2e378aa",
   "metadata": {},
   "outputs": [
    {
     "name": "stdout",
     "output_type": "stream",
     "text": [
      "5.0\n"
     ]
    }
   ],
   "source": [
    "def compute_mean(values):\n",
    "    mean_value = sum(values) / len(values)\n",
    "    print(mean_value)\n",
    "\n",
    "compute_mean([2, 4, 6, 8])"
   ]
  },
  {
   "cell_type": "markdown",
   "id": "2017b5a0-528d-4338-9d03-28c3d11337c5",
   "metadata": {},
   "source": [
    "The above code finds the average value of a given set of values using the following equation:\n",
    "\n",
    "$$\n",
    "\\bar{x} = \\frac{x_1 + x_2 +...+ x_n}{n} = \\frac{1}{n} \\Bigg(\\sum_{i=1}^{n}{x_i}\\Bigg)\n",
    "$$"
   ]
  }
 ],
 "metadata": {
  "kernelspec": {
   "display_name": "Python [conda env:test_env]",
   "language": "python",
   "name": "conda-env-test_env-py"
  },
  "language_info": {
   "codemirror_mode": {
    "name": "ipython",
    "version": 3
   },
   "file_extension": ".py",
   "mimetype": "text/x-python",
   "name": "python",
   "nbconvert_exporter": "python",
   "pygments_lexer": "ipython3",
   "version": "3.12.7"
  }
 },
 "nbformat": 4,
 "nbformat_minor": 5
}
